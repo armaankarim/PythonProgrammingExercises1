{
 "cells": [
  {
   "cell_type": "markdown",
   "metadata": {
    "slideshow": {
     "slide_type": "slide"
    }
   },
   "source": [
    "# The Python Programming Language\n",
    "\n",
    "Python is a widely used general-purpose, high-level programming language.\n",
    "Its design philosophy emphasizes code readability, and its syntax allows\n",
    "programmers to express concepts in fewer lines of code than would be\n",
    "possible in languages such as C++ or Java.\n",
    "\n",
    "[More...](https://en.wikipedia.org/wiki/Python_(programming_language)"
   ]
  },
  {
   "cell_type": "markdown",
   "metadata": {
    "slideshow": {
     "slide_type": "subslide"
    }
   },
   "source": [
    "## Questions :\n",
    "\n",
    "What is the *syntax* of a programming language?\n",
    "\n",
    "What is a \"high level\" langauge\n",
    "\n",
    "What software do you need to \"run\" python code?"
   ]
  },
  {
   "cell_type": "markdown",
   "metadata": {
    "slideshow": {
     "slide_type": "subslide"
    }
   },
   "source": [
    "## Record your answer here:\n",
    "\n",
    "syntax in programming is a set of rules bound to grammar in language which are converted to allow a computer to interpret and process the instructions given, so when there is some form of mistake in grammar the computer won't be able to perceive the instruction given (syntax error). website used: https://www.techopedia.com/definition/3959/syntax\n",
    "\n",
    "high level programming languages detach themselves from computer language (such as a sequence of numbers) and drifts more towards being run by human language (words that can be read and percieved easily by humans). website used: https://www.webopedia.com/TERM/H/high_level_language.html\n",
    "\n",
    "a program/interpreter such as jupyter notebook.\n",
    "\n",
    "\n"
   ]
  },
  {
   "cell_type": "markdown",
   "metadata": {
    "slideshow": {
     "slide_type": "slide"
    }
   },
   "source": [
    "## Exercise : Operators\n",
    "\n",
    "Explore how the python operators work\n",
    "```python \n",
    "+ - / * \n",
    "```\n",
    "\n",
    "Think about TYPES (integers, reals, strings) while you explore\n",
    "\n",
    "\n"
   ]
  },
  {
   "cell_type": "code",
   "execution_count": 14,
   "metadata": {
    "slideshow": {
     "slide_type": "fragment"
    }
   },
   "outputs": [
    {
     "data": {
      "text/plain": [
       "0.9090909090909091"
      ]
     },
     "execution_count": 14,
     "metadata": {},
     "output_type": "execute_result"
    }
   ],
   "source": [
    "2/2.2"
   ]
  },
  {
   "cell_type": "code",
   "execution_count": 2,
   "metadata": {},
   "outputs": [
    {
     "data": {
      "text/plain": [
       "0.4444444444444444"
      ]
     },
     "execution_count": 2,
     "metadata": {},
     "output_type": "execute_result"
    }
   ],
   "source": [
    "4 / 9"
   ]
  },
  {
   "cell_type": "code",
   "execution_count": 12,
   "metadata": {},
   "outputs": [
    {
     "data": {
      "text/plain": [
       "'helloworld'"
      ]
     },
     "execution_count": 12,
     "metadata": {},
     "output_type": "execute_result"
    }
   ],
   "source": [
    "\"hello\"+\"world\""
   ]
  },
  {
   "cell_type": "code",
   "execution_count": 10,
   "metadata": {},
   "outputs": [
    {
     "data": {
      "text/plain": [
       "0"
      ]
     },
     "execution_count": 10,
     "metadata": {},
     "output_type": "execute_result"
    }
   ],
   "source": [
    "# write your own expression:\n",
    "6 / 5\n",
    "8 / 8\n",
    "4 - 4"
   ]
  },
  {
   "cell_type": "markdown",
   "metadata": {},
   "source": [
    "## Record your findings here:\n",
    "the last line of code with operators included take priority over ones from the lines of code following it. eg. if an expression such as 6/5 was written and then below it would be 8/8 and then it was run, only the answer to 8/8 would be printed\n",
    "\n",
    "\"+\" adds two numbers or two strings together,\n",
    "\"-\" subtracts one number from the other,\n",
    "\"/\" divides one number from the other,\n",
    "\"*\" adds two numbers by each other (it also makes text italic if you put it in quotation marks)\n",
    "\n",
    "\n"
   ]
  },
  {
   "cell_type": "markdown",
   "metadata": {},
   "source": [
    "## Exercise : More operators\n",
    "\n",
    "Now explore these:\n",
    "\n",
    "``` python\n",
    "//    %  **\n",
    "\n",
    "```\n"
   ]
  },
  {
   "cell_type": "code",
   "execution_count": 31,
   "metadata": {},
   "outputs": [
    {
     "data": {
      "text/plain": [
       "9"
      ]
     },
     "execution_count": 31,
     "metadata": {},
     "output_type": "execute_result"
    }
   ],
   "source": [
    "9//1"
   ]
  },
  {
   "cell_type": "code",
   "execution_count": 37,
   "metadata": {},
   "outputs": [
    {
     "data": {
      "text/plain": [
       "100"
      ]
     },
     "execution_count": 37,
     "metadata": {},
     "output_type": "execute_result"
    }
   ],
   "source": [
    "10**2"
   ]
  },
  {
   "cell_type": "code",
   "execution_count": 9,
   "metadata": {},
   "outputs": [
    {
     "data": {
      "text/plain": [
       "1"
      ]
     },
     "execution_count": 9,
     "metadata": {},
     "output_type": "execute_result"
    }
   ],
   "source": [
    "2%3"
   ]
  },
  {
   "cell_type": "markdown",
   "metadata": {},
   "source": [
    "## Record your findings here:\n",
    "\n",
    "\"//\" how many of num 1 fit into num 2?,\n",
    "\"**\" num 1 to the power of num 2,\n",
    "\"%\" remainder after \"fitting\" num 1 into num 2\n"
   ]
  },
  {
   "cell_type": "markdown",
   "metadata": {},
   "source": [
    "# Exercise: Using the modulo operator to loop though a series of numbers\n",
    "\n",
    "Think of a clock - what numbers does it have? 1, 2, 3, 4, ... all the way to 12. What happens after 12? It goes back to 1 again. A 24h clock is no different - it goes from 1,2,3..12,13,14...22,23,24 and then loops back to 1.\n",
    "\n",
    "How can you program a sequence like this? One that begins with 1 but then loops back to 1 once it has reached its maximum?\n",
    "\n",
    "With the modulo operator its easy. Let's test this out with a 12 hour clock. WHen numbers are LESS than 12, if you %12, you just get the number itself. "
   ]
  },
  {
   "cell_type": "code",
   "execution_count": 15,
   "metadata": {},
   "outputs": [
    {
     "data": {
      "text/plain": [
       "3"
      ]
     },
     "execution_count": 15,
     "metadata": {},
     "output_type": "execute_result"
    }
   ],
   "source": [
    "3 % 12"
   ]
  },
  {
   "cell_type": "code",
   "execution_count": 16,
   "metadata": {},
   "outputs": [
    {
     "data": {
      "text/plain": [
       "5"
      ]
     },
     "execution_count": 16,
     "metadata": {},
     "output_type": "execute_result"
    }
   ],
   "source": [
    "5 % 12"
   ]
  },
  {
   "cell_type": "markdown",
   "metadata": {},
   "source": [
    "What about when numbers are larger than 12... well let's start with 12 itself. What do you think the following results in?"
   ]
  },
  {
   "cell_type": "code",
   "execution_count": 4,
   "metadata": {},
   "outputs": [
    {
     "data": {
      "text/plain": [
       "0"
      ]
     },
     "execution_count": 4,
     "metadata": {},
     "output_type": "execute_result"
    }
   ],
   "source": [
    "12 % 12"
   ]
  },
  {
   "cell_type": "code",
   "execution_count": 5,
   "metadata": {},
   "outputs": [
    {
     "data": {
      "text/plain": [
       "12"
      ]
     },
     "execution_count": 5,
     "metadata": {},
     "output_type": "execute_result"
    }
   ],
   "source": [
    "12%13"
   ]
  },
  {
   "cell_type": "code",
   "execution_count": 6,
   "metadata": {},
   "outputs": [
    {
     "data": {
      "text/plain": [
       "3"
      ]
     },
     "execution_count": 6,
     "metadata": {},
     "output_type": "execute_result"
    }
   ],
   "source": [
    "15%12\n"
   ]
  },
  {
   "cell_type": "markdown",
   "metadata": {},
   "source": [
    "# Reflection: Modulo operator\n",
    "\n",
    "Does this make sense? Does it work? Do you have any questions? Where (else) can this be used?\n",
    "\n",
    "[Read more about Modulo arithmetic here](https://www.khanacademy.org/computing/computer-science/cryptography#modarithmetic)"
   ]
  },
  {
   "cell_type": "markdown",
   "metadata": {},
   "source": [
    "## Exercise: Comparision Operators\n",
    "\n",
    "Explore the Python comparison operators\n",
    "\n",
    "```python\n",
    ">  < >=  <= !=  == \n",
    "```\n",
    "\n",
    "What TYPE does a comparision return?"
   ]
  },
  {
   "cell_type": "code",
   "execution_count": 51,
   "metadata": {},
   "outputs": [
    {
     "data": {
      "text/plain": [
       "True"
      ]
     },
     "execution_count": 51,
     "metadata": {},
     "output_type": "execute_result"
    }
   ],
   "source": [
    "4 <=4"
   ]
  },
  {
   "cell_type": "code",
   "execution_count": 39,
   "metadata": {},
   "outputs": [
    {
     "data": {
      "text/plain": [
       "False"
      ]
     },
     "execution_count": 39,
     "metadata": {},
     "output_type": "execute_result"
    }
   ],
   "source": [
    "5 != 5"
   ]
  },
  {
   "cell_type": "code",
   "execution_count": 53,
   "metadata": {},
   "outputs": [
    {
     "data": {
      "text/plain": [
       "False"
      ]
     },
     "execution_count": 53,
     "metadata": {},
     "output_type": "execute_result"
    }
   ],
   "source": [
    "\"worldd\" == \"world\""
   ]
  },
  {
   "cell_type": "code",
   "execution_count": 19,
   "metadata": {},
   "outputs": [
    {
     "data": {
      "text/plain": [
       "False"
      ]
     },
     "execution_count": 19,
     "metadata": {},
     "output_type": "execute_result"
    }
   ],
   "source": [
    "True == False"
   ]
  },
  {
   "cell_type": "markdown",
   "metadata": {},
   "source": [
    "## Record your findings here:\n",
    "\n",
    "\">\" is num1/string1 greater than num2/string2?,\n",
    "\"<\" is num1/string1 less than num2/string2?,\n",
    "\"<=\" is num1/string1 less than or equal to num2/string2?,\n",
    "\">=\" is num1/string1 greater than or equal to num2/string2?,\n",
    "\"!=\" is num1/string1 not equal to num2/string2?,\n",
    "\"==\" is num1/string1 equal to num2/string2?\n",
    "\n",
    "\n"
   ]
  },
  {
   "cell_type": "markdown",
   "metadata": {},
   "source": [
    "\n",
    "# Storing data - Variables (and constants)\n",
    "\n",
    "Computers are stupid, if they don't \"write things down\" they will “forget” .\n",
    "\n",
    "We use VARIABLES or CONSTANTS which creates space in computer memory to store data.\n",
    "All variables have a DATA-TYPE (integer, real (float), string, boolean)\n",
    "\n",
    "All variables have NAMES and VALUES. The names never change, but the values can.\n",
    "All contants have NAMES and VALUES. Neither change! Then why use constants? Because words (like  ```DISTTOMOON ```) are more meaningful to human programmers than number (like  ```238855 ``` miles)\n",
    "\n",
    "\n",
    "## Ada-style Naming convention\n",
    "\n",
    "Variables should use **camelCase** naming, and start with a lower-case letter.\n",
    "\n",
    "Boolean variables should sound like a question.\n",
    "\n",
    "Constants should be in CAPITALS and come as close the the beginning of a program as appropriate\n",
    "\n",
    "```python\n",
    "# no:\n",
    "Name = 'Alex'\n",
    "user_age = 16\n",
    "userTired = true\n",
    "dist_Moon = 238855\n",
    "\n",
    "# yes:\n",
    "DISTMOON = 23885\n",
    "name = 'Alex'\n",
    "userAge = 16\n",
    "isUserTired = true\n",
    "```\n",
    "\n",
    "### Note: \n",
    "\n",
    "A ```#``` (hash) symbol precedes a comment. This line of code will be ignored by the interpreter and allows the programmer to write notes to themselves or others"
   ]
  },
  {
   "cell_type": "markdown",
   "metadata": {},
   "source": [
    "## Exercise: Program the formula for the area of a circle\n",
    "\n",
    "The formula is: **pi** times **radius** squared\n",
    "\n",
    "Pi is a constant, while radius should be a variable, otherwise your program will always work out the area of the same circle\n"
   ]
  },
  {
   "cell_type": "code",
   "execution_count": 25,
   "metadata": {},
   "outputs": [
    {
     "data": {
      "text/plain": [
       "452.16"
      ]
     },
     "execution_count": 25,
     "metadata": {},
     "output_type": "execute_result"
    }
   ],
   "source": [
    "PI = 3.14  #you can make this as accurate as you want \n",
    "radius = 12 # change this as appropirate\n",
    "PI * radius**2"
   ]
  },
  {
   "cell_type": "markdown",
   "metadata": {},
   "source": [
    "## Note: there is a library for Maths constants!\n",
    "\n",
    "[Python Maths functions](https://docs.python.org/3.0/library/math.html)"
   ]
  },
  {
   "cell_type": "code",
   "execution_count": 26,
   "metadata": {},
   "outputs": [
    {
     "data": {
      "text/plain": [
       "3.141592653589793"
      ]
     },
     "execution_count": 26,
     "metadata": {},
     "output_type": "execute_result"
    }
   ],
   "source": [
    "import math\n",
    "math.pi"
   ]
  },
  {
   "cell_type": "code",
   "execution_count": 27,
   "metadata": {},
   "outputs": [
    {
     "data": {
      "text/plain": [
       "452.3893421169302"
      ]
     },
     "execution_count": 27,
     "metadata": {},
     "output_type": "execute_result"
    }
   ],
   "source": [
    "PI = math.pi\n",
    "radius = 12\n",
    "PI * radius**2"
   ]
  },
  {
   "cell_type": "markdown",
   "metadata": {},
   "source": [
    "## Task: Solve this problem\n",
    "\n",
    "In the classic game PACMAN, Pacman can score by \"eating\" dots and also eating flashing dots (energizers).\n",
    "The small dots are worth ten points each, and the  large, flashing dots/energizers are worth 50 points each.\n",
    "\n",
    "Write Python code that will calculate a players score based on the amount of dots and energizers that the player has eaten.\n",
    "\n",
    "Think about what you will make CONTSTANTS and what will be VARIABLES"
   ]
  },
  {
   "cell_type": "code",
   "execution_count": null,
   "metadata": {},
   "outputs": [],
   "source": []
  },
  {
   "cell_type": "code",
   "execution_count": 20,
   "metadata": {},
   "outputs": [
    {
     "name": "stdout",
     "output_type": "stream",
     "text": [
      "60\n"
     ]
    }
   ],
   "source": [
    "#amount\n",
    "amountofsmalldots = 1\n",
    "amountoflargedots = 1\n",
    "#fixed values for dots\n",
    "SMALLDOTS = 10\n",
    "LARGEDOTS = 50\n",
    "\n",
    "#score\n",
    "score = (amountofsmalldots*SMALLDOTS) + (amountoflargedots*LARGEDOTS)\n",
    "print(score)\n",
    "\n",
    "\n",
    "\n",
    "\n",
    "\n",
    " \n",
    "\n"
   ]
  },
  {
   "cell_type": "code",
   "execution_count": null,
   "metadata": {},
   "outputs": [],
   "source": []
  },
  {
   "cell_type": "code",
   "execution_count": null,
   "metadata": {},
   "outputs": [],
   "source": []
  }
 ],
 "metadata": {
  "celltoolbar": "Slideshow",
  "kernelspec": {
   "display_name": "Python 3",
   "language": "python",
   "name": "python3"
  },
  "language_info": {
   "codemirror_mode": {
    "name": "ipython",
    "version": 3
   },
   "file_extension": ".py",
   "mimetype": "text/x-python",
   "name": "python",
   "nbconvert_exporter": "python",
   "pygments_lexer": "ipython3",
   "version": "3.6.8"
  }
 },
 "nbformat": 4,
 "nbformat_minor": 2
}
